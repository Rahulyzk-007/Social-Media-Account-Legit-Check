{
 "cells": [
  {
   "cell_type": "code",
   "execution_count": 6,
   "id": "8265c155",
   "metadata": {},
   "outputs": [],
   "source": [
    "import tensorflow as tf\n",
    "from tensorflow.keras.models import Sequential\n",
    "from tensorflow.keras.layers import Dense\n",
    "from sklearn.model_selection import train_test_split\n",
    "from sklearn.preprocessing import StandardScaler\n",
    "from sklearn.datasets import load_iris\n",
    "import pandas as pd\n",
    "import numpy as np"
   ]
  },
  {
   "cell_type": "markdown",
   "id": "1d4aa71d",
   "metadata": {},
   "source": [
    "# Importing the DataSet"
   ]
  },
  {
   "cell_type": "code",
   "execution_count": 8,
   "id": "f5ae5aa5",
   "metadata": {},
   "outputs": [],
   "source": [
    "data=pd.read_csv('/Users/rahul/Downloads/LegitCheck/train.csv')"
   ]
  },
  {
   "cell_type": "code",
   "execution_count": 45,
   "id": "fc901013",
   "metadata": {},
   "outputs": [],
   "source": [
    "X = data.iloc[:, :-1]\n",
    "y=data.iloc[:,-1]"
   ]
  },
  {
   "cell_type": "markdown",
   "id": "3bea3deb",
   "metadata": {},
   "source": [
    "# Spliting the DataSet into Train and Test"
   ]
  },
  {
   "cell_type": "code",
   "execution_count": 60,
   "id": "4e07c2eb",
   "metadata": {},
   "outputs": [],
   "source": [
    "X_train,X_test,y_train,y_test=train_test_split(X,y,test_size=0.2,random_state=42)"
   ]
  },
  {
   "cell_type": "markdown",
   "id": "b1d15012",
   "metadata": {},
   "source": [
    "# Feature Scaling"
   ]
  },
  {
   "cell_type": "code",
   "execution_count": 61,
   "id": "830ea76e",
   "metadata": {},
   "outputs": [],
   "source": [
    "scaler=StandardScaler()\n",
    "X_train=scaler.fit_transform(X_train)\n",
    "X_test=scaler.transform(X_test)"
   ]
  },
  {
   "cell_type": "markdown",
   "id": "27597e85",
   "metadata": {},
   "source": [
    "# Model Building "
   ]
  },
  {
   "cell_type": "code",
   "execution_count": 113,
   "id": "57e0f7f9",
   "metadata": {},
   "outputs": [],
   "source": [
    "model=Sequential()\n",
    "model.add(Dense(units=8,activation='relu',input_shape=(X_train.shape[1],)))\n",
    "model.add(Dense(units=8,activation='relu'))\n",
    "model.add(Dense(units=4,activation='relu'))\n",
    "model.add(Dense(units=1,activation='sigmoid'))"
   ]
  },
  {
   "cell_type": "code",
   "execution_count": 114,
   "id": "51a584bb",
   "metadata": {},
   "outputs": [],
   "source": [
    "model.compile(optimizer='adam',loss='binary_crossentropy',metrics=['accuracy'])"
   ]
  },
  {
   "cell_type": "markdown",
   "id": "fff05610",
   "metadata": {},
   "source": [
    "# Training the Model "
   ]
  },
  {
   "cell_type": "code",
   "execution_count": 115,
   "id": "d5231b3e",
   "metadata": {},
   "outputs": [
    {
     "name": "stdout",
     "output_type": "stream",
     "text": [
      "Epoch 1/20\n",
      "15/15 [==============================] - 0s 5ms/step - loss: 0.7075 - accuracy: 0.4674 - val_loss: 0.6960 - val_accuracy: 0.5603\n",
      "Epoch 2/20\n",
      "15/15 [==============================] - 0s 1ms/step - loss: 0.6962 - accuracy: 0.5435 - val_loss: 0.6902 - val_accuracy: 0.6034\n",
      "Epoch 3/20\n",
      "15/15 [==============================] - 0s 2ms/step - loss: 0.6893 - accuracy: 0.6152 - val_loss: 0.6852 - val_accuracy: 0.6552\n",
      "Epoch 4/20\n",
      "15/15 [==============================] - 0s 1ms/step - loss: 0.6837 - accuracy: 0.6543 - val_loss: 0.6802 - val_accuracy: 0.6897\n",
      "Epoch 5/20\n",
      "15/15 [==============================] - 0s 1ms/step - loss: 0.6773 - accuracy: 0.7000 - val_loss: 0.6739 - val_accuracy: 0.7500\n",
      "Epoch 6/20\n",
      "15/15 [==============================] - 0s 1ms/step - loss: 0.6699 - accuracy: 0.7391 - val_loss: 0.6665 - val_accuracy: 0.7586\n",
      "Epoch 7/20\n",
      "15/15 [==============================] - 0s 1ms/step - loss: 0.6607 - accuracy: 0.7783 - val_loss: 0.6563 - val_accuracy: 0.7672\n",
      "Epoch 8/20\n",
      "15/15 [==============================] - 0s 1ms/step - loss: 0.6472 - accuracy: 0.7891 - val_loss: 0.6433 - val_accuracy: 0.7845\n",
      "Epoch 9/20\n",
      "15/15 [==============================] - 0s 1ms/step - loss: 0.6276 - accuracy: 0.7978 - val_loss: 0.6205 - val_accuracy: 0.7931\n",
      "Epoch 10/20\n",
      "15/15 [==============================] - 0s 1ms/step - loss: 0.5933 - accuracy: 0.8065 - val_loss: 0.5906 - val_accuracy: 0.7845\n",
      "Epoch 11/20\n",
      "15/15 [==============================] - 0s 1ms/step - loss: 0.5486 - accuracy: 0.8435 - val_loss: 0.5485 - val_accuracy: 0.7845\n",
      "Epoch 12/20\n",
      "15/15 [==============================] - 0s 2ms/step - loss: 0.4960 - accuracy: 0.8826 - val_loss: 0.5056 - val_accuracy: 0.8448\n",
      "Epoch 13/20\n",
      "15/15 [==============================] - 0s 1ms/step - loss: 0.4447 - accuracy: 0.8913 - val_loss: 0.4633 - val_accuracy: 0.8448\n",
      "Epoch 14/20\n",
      "15/15 [==============================] - 0s 1ms/step - loss: 0.3961 - accuracy: 0.8935 - val_loss: 0.4249 - val_accuracy: 0.8621\n",
      "Epoch 15/20\n",
      "15/15 [==============================] - 0s 1ms/step - loss: 0.3532 - accuracy: 0.9065 - val_loss: 0.3928 - val_accuracy: 0.8793\n",
      "Epoch 16/20\n",
      "15/15 [==============================] - 0s 1ms/step - loss: 0.3175 - accuracy: 0.9087 - val_loss: 0.3705 - val_accuracy: 0.8793\n",
      "Epoch 17/20\n",
      "15/15 [==============================] - 0s 1ms/step - loss: 0.2925 - accuracy: 0.9109 - val_loss: 0.3543 - val_accuracy: 0.8793\n",
      "Epoch 18/20\n",
      "15/15 [==============================] - 0s 1ms/step - loss: 0.2741 - accuracy: 0.9130 - val_loss: 0.3436 - val_accuracy: 0.8879\n",
      "Epoch 19/20\n",
      "15/15 [==============================] - 0s 1ms/step - loss: 0.2602 - accuracy: 0.9152 - val_loss: 0.3376 - val_accuracy: 0.8879\n",
      "Epoch 20/20\n",
      "15/15 [==============================] - 0s 1ms/step - loss: 0.2514 - accuracy: 0.9130 - val_loss: 0.3334 - val_accuracy: 0.8879\n"
     ]
    },
    {
     "data": {
      "text/plain": [
       "<keras.src.callbacks.History at 0x13eb5cf90>"
      ]
     },
     "execution_count": 115,
     "metadata": {},
     "output_type": "execute_result"
    }
   ],
   "source": [
    "model.fit(X_train,y_train,epochs=20,validation_data=(X_test,y_test))"
   ]
  },
  {
   "cell_type": "code",
   "execution_count": 116,
   "id": "38243d16",
   "metadata": {},
   "outputs": [
    {
     "name": "stdout",
     "output_type": "stream",
     "text": [
      "4/4 [==============================] - 0s 1ms/step - loss: 0.3334 - accuracy: 0.8879\n",
      "Test Accuracy: 88.79%\n"
     ]
    }
   ],
   "source": [
    "loss, accuracy = model.evaluate(X_test, y_test)\n",
    "print(f'Test Accuracy: {accuracy * 100:.2f}%')"
   ]
  },
  {
   "cell_type": "markdown",
   "id": "b20b6ea4",
   "metadata": {},
   "source": [
    "# Accuracy of Model "
   ]
  },
  {
   "cell_type": "code",
   "execution_count": 125,
   "id": "30399146",
   "metadata": {},
   "outputs": [
    {
     "name": "stdout",
     "output_type": "stream",
     "text": [
      "4/4 [==============================] - 0s 1ms/step\n",
      "[[62  1]\n",
      " [12 41]]\n",
      "Accuracy: 88.79%\n"
     ]
    }
   ],
   "source": [
    "from sklearn.metrics import confusion_matrix, accuracy_score\n",
    "import numpy as np\n",
    "\n",
    "# Predict probabilities on the test set\n",
    "y_pred_prob = model.predict(X_test)\n",
    "\n",
    "# Convert probabilities to binary class labels (0 or 1)\n",
    "y_pred = (y_pred_prob > 0.5).astype(int)\n",
    "\n",
    "# Confusion Matrix\n",
    "cm = confusion_matrix(y_test, y_pred)\n",
    "print(cm)\n",
    "\n",
    "# Accuracy Score\n",
    "accuracy = accuracy_score(y_test, y_pred)\n",
    "print(f'Accuracy: {accuracy * 100:.2f}%')"
   ]
  },
  {
   "cell_type": "code",
   "execution_count": 167,
   "id": "cb88c25d",
   "metadata": {},
   "outputs": [
    {
     "data": {
      "image/png": "[encoded data removed]",
      "text/plain": [
       "<Figure size 640x480 with 2 Axes>"
      ]
     },
     "metadata": {},
     "output_type": "display_data"
    }
   ],
   "source": [
    "import matplotlib.pyplot as plt\n",
    "import seaborn as sns\n",
    "sns.heatmap(cm, annot=True, fmt='d', cmap='Blues')\n",
    "plt.xlabel('Predicted Labels')\n",
    "plt.ylabel('True Labels')\n",
    "plt.title('Confusion Matrix')\n",
    "plt.show()"
   ]
  },
  {
   "cell_type": "markdown",
   "id": "971372ad",
   "metadata": {},
   "source": [
    "# Single Prediction"
   ]
  },
  {
   "cell_type": "code",
   "execution_count": 163,
   "id": "085fcbad",
   "metadata": {},
   "outputs": [],
   "source": [
    "single_prediction=np.array([1,0.17,3,0.0,0,0,0,0,1,14,829])\n",
    "\n",
    "#Reshape if necessary (model expects shape (1, num_features))\n",
    "single_prediction = single_prediction.reshape(1, -1)"
   ]
  },
  {
   "cell_type": "code",
   "execution_count": 164,
   "id": "b6743f8c",
   "metadata": {},
   "outputs": [
    {
     "name": "stdout",
     "output_type": "stream",
     "text": [
      "1/1 [==============================] - 0s 13ms/step\n"
     ]
    },
    {
     "data": {
      "text/plain": [
       "array([[0]])"
      ]
     },
     "execution_count": 164,
     "metadata": {},
     "output_type": "execute_result"
    }
   ],
   "source": [
    "prediction=model.predict(single_prediction)\n",
    "prediction.astype(int)"
   ]
  },
  {
   "cell_type": "code",
   "execution_count": 165,
   "id": "9d44778a",
   "metadata": {},
   "outputs": [
    {
     "name": "stdout",
     "output_type": "stream",
     "text": [
      "Predicted Probability: [[0]]\n",
      "Predicted Class: [[0]]\n"
     ]
    }
   ],
   "source": [
    "# Convert to binary class label (0 or 1)\n",
    "prediction = (prediction > 0.5).astype(int)\n",
    "\n",
    "print(\"Predicted Probability:\", prediction)\n",
    "print(\"Predicted Class:\", prediction)"
   ]
  }
 ],
 "metadata": {
  "kernelspec": {
   "display_name": "Python 3 (ipykernel)",
   "language": "python",
   "name": "python3"
  },
  "language_info": {
   "codemirror_mode": {
    "name": "ipython",
    "version": 3
   },
   "file_extension": ".py",
   "mimetype": "text/x-python",
   "name": "python",
   "nbconvert_exporter": "python",
   "pygments_lexer": "ipython3",
   "version": "3.11.5"
  }
 },
 "nbformat": 4,
 "nbformat_minor": 5
}
